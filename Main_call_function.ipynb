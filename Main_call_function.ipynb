{
 "cells": [
  {
   "cell_type": "code",
   "execution_count": 12,
   "metadata": {
    "collapsed": false
   },
   "outputs": [],
   "source": [
    "import pandas as pd\n",
    "import pprint\n",
    "import CrawlingFunction"
   ]
  },
  {
   "cell_type": "code",
   "execution_count": 2,
   "metadata": {
    "collapsed": false
   },
   "outputs": [
    {
     "data": {
      "text/html": [
       "<div>\n",
       "<table border=\"1\" class=\"dataframe\">\n",
       "  <thead>\n",
       "    <tr style=\"text-align: right;\">\n",
       "      <th></th>\n",
       "      <th>Unnamed: 0</th>\n",
       "      <th>candidate_name</th>\n",
       "      <th>candidate_surname</th>\n",
       "      <th>candidate_country</th>\n",
       "      <th>ethnicity</th>\n",
       "      <th>url</th>\n",
       "      <th>cand_id</th>\n",
       "      <th>ID</th>\n",
       "    </tr>\n",
       "  </thead>\n",
       "  <tbody>\n",
       "    <tr>\n",
       "      <th>0</th>\n",
       "      <td>0</td>\n",
       "      <td>Aviv</td>\n",
       "      <td>Eyal</td>\n",
       "      <td>US</td>\n",
       "      <td>Asian</td>\n",
       "      <td>http://www.linkedin.com/in/aviveyal</td>\n",
       "      <td>75238</td>\n",
       "      <td>0</td>\n",
       "    </tr>\n",
       "    <tr>\n",
       "      <th>1</th>\n",
       "      <td>1</td>\n",
       "      <td>Michael</td>\n",
       "      <td>Kirkorian</td>\n",
       "      <td>FR</td>\n",
       "      <td>White/Caucasian</td>\n",
       "      <td>https://fr.linkedin.com/in/michaël-kirkorian-b...</td>\n",
       "      <td>17617</td>\n",
       "      <td>1</td>\n",
       "    </tr>\n",
       "    <tr>\n",
       "      <th>2</th>\n",
       "      <td>2</td>\n",
       "      <td>Xiangping</td>\n",
       "      <td>Bu</td>\n",
       "      <td>US</td>\n",
       "      <td>Asian</td>\n",
       "      <td>https://www.linkedin.com/in/xiangping-bu-992b5...</td>\n",
       "      <td>93502</td>\n",
       "      <td>2</td>\n",
       "    </tr>\n",
       "    <tr>\n",
       "      <th>3</th>\n",
       "      <td>3</td>\n",
       "      <td>Ramayan</td>\n",
       "      <td>Tiwari</td>\n",
       "      <td>US</td>\n",
       "      <td>Asian</td>\n",
       "      <td>https://www.linkedin.com/in/ramayantiwari</td>\n",
       "      <td>128671</td>\n",
       "      <td>3</td>\n",
       "    </tr>\n",
       "    <tr>\n",
       "      <th>4</th>\n",
       "      <td>4</td>\n",
       "      <td>Srilatha</td>\n",
       "      <td>Koneru</td>\n",
       "      <td>US</td>\n",
       "      <td>Asian</td>\n",
       "      <td>http://www.linkedin.com/pub/srilatha-koneru/0/...</td>\n",
       "      <td>87393</td>\n",
       "      <td>4</td>\n",
       "    </tr>\n",
       "  </tbody>\n",
       "</table>\n",
       "</div>"
      ],
      "text/plain": [
       "   Unnamed: 0 candidate_name candidate_surname candidate_country  \\\n",
       "0           0           Aviv              Eyal                US   \n",
       "1           1        Michael         Kirkorian                FR   \n",
       "2           2      Xiangping                Bu                US   \n",
       "3           3        Ramayan            Tiwari                US   \n",
       "4           4       Srilatha            Koneru                US   \n",
       "\n",
       "         ethnicity                                                url  \\\n",
       "0            Asian                http://www.linkedin.com/in/aviveyal   \n",
       "1  White/Caucasian  https://fr.linkedin.com/in/michaël-kirkorian-b...   \n",
       "2            Asian  https://www.linkedin.com/in/xiangping-bu-992b5...   \n",
       "3            Asian          https://www.linkedin.com/in/ramayantiwari   \n",
       "4            Asian  http://www.linkedin.com/pub/srilatha-koneru/0/...   \n",
       "\n",
       "   cand_id  ID  \n",
       "0    75238   0  \n",
       "1    17617   1  \n",
       "2    93502   2  \n",
       "3   128671   3  \n",
       "4    87393   4  "
      ]
     },
     "execution_count": 2,
     "metadata": {},
     "output_type": "execute_result"
    }
   ],
   "source": [
    "cand_data_df = pd.read_csv(\"sample_df.csv\")\n",
    "cand_data_df.head()"
   ]
  },
  {
   "cell_type": "code",
   "execution_count": 3,
   "metadata": {
    "collapsed": true
   },
   "outputs": [],
   "source": [
    "linkedin_url = \"https://www.linkedin.com/in/leminhquoc/\""
   ]
  },
  {
   "cell_type": "code",
   "execution_count": 1,
   "metadata": {
    "collapsed": false
   },
   "outputs": [
    {
     "name": "stderr",
     "output_type": "stream",
     "text": [
      "/Users/vunguyen/anaconda/envs/python2/lib/python2.7/site-packages/bs4/__init__.py:181: UserWarning: No parser was explicitly specified, so I'm using the best available HTML parser for this system (\"lxml\"). This usually isn't a problem, but if you run this code on another system, or in a different virtual environment, it may use a different parser and behave differently.\n",
      "\n",
      "The code that caused this warning is on line 174 of the file /Users/vunguyen/anaconda/envs/python2/lib/python2.7/runpy.py. To get rid of this warning, change code that looks like this:\n",
      "\n",
      " BeautifulSoup([your markup])\n",
      "\n",
      "to this:\n",
      "\n",
      " BeautifulSoup([your markup], \"lxml\")\n",
      "\n",
      "  markup_type=markup_type))\n"
     ]
    },
    {
     "name": "stdout",
     "output_type": "stream",
     "text": [
      "Profile picture: /AAEAAQAAAAAAAAWzAAAAJDY3YWIyNDlhLTgzNDItNGU1OS1iYzU2LTUxOGY2OGE0YTlkMg.jpg\n",
      "\n",
      "('picture_link:', u'https://media.licdn.com/mpr/mpr/shrinknp_400_400/AAEAAQAAAAAAAAWzAAAAJDY3YWIyNDlhLTgzNDItNGU1OS1iYzU2LTUxOGY2OGE0YTlkMg.jpg')\n",
      "('userfirstname ', 'Quoc', '\\n userlastname', 'M.Le')\n",
      "('All function time spending:', 3.797522783279419)\n",
      "   cand_id firstname                   img_path lastname\n",
      "0      100      Quoc  photo/profile_img_100.jpg     M.Le\n",
      "   cand_id endMonth  endYear  \\\n",
      "0      100  Present  Present   \n",
      "1      100  Present  Present   \n",
      "2      100       12     2015   \n",
      "3      100  Present  Present   \n",
      "4      100  Present  Present   \n",
      "5      100  Present  Present   \n",
      "\n",
      "                                        locationName  \\\n",
      "0              Linh Trung, Ho Chi Minh City, Vietnam   \n",
      "1                                   Ho Chi Minh city   \n",
      "2                                   Sophia Antipolis   \n",
      "3  227 Nguyen Van Cu street, District 5, Ho Chi M...   \n",
      "4                                   Ho Chi Minh City   \n",
      "5                                                NaN   \n",
      "\n",
      "                                                name  startMonth  startYear  \n",
      "0  John von Neumann Institute - Vietnam National ...         6.0     2016.0  \n",
      "1  John von Neumann Institute - Vietnam National ...         8.0     2016.0  \n",
      "2                                   Amadeus IT Group         7.0     2015.0  \n",
      "3                     VNUHCM - University of Science        12.0     2011.0  \n",
      "4  John von Neumann Institute - Vietnam National ...         3.0     2017.0  \n",
      "5                                        WWF Vietnam         NaN        NaN  \n",
      "{'country': u'FR', 'name': 'Telecom ParisTech'}\n",
      "{'country': u'FR',\n",
      " 'endYear': 2016,\n",
      " 'name': 'Telecom ParisTech',\n",
      " 'startYear': 2013}\n",
      "{'country': u'VN',\n",
      " 'endYear': 2012,\n",
      " 'name': 'University of Science Ho Chi Minh City',\n",
      " 'startYear': 2007}\n",
      "{'country': u'VN',\n",
      " 'endYear': 2015,\n",
      " 'name': 'John von Neumann Institute - Vietnam National University HCM',\n",
      " 'startYear': 2012}\n",
      "   cand_id country endMonth  endYear  \\\n",
      "0      100      FR  Present  Present   \n",
      "1      100      FR  Present     2016   \n",
      "2      100      VN  Present     2012   \n",
      "3      100      VN  Present     2015   \n",
      "\n",
      "                                                name  startYear  \n",
      "0                                  Telecom ParisTech        NaN  \n",
      "1                                  Telecom ParisTech     2013.0  \n",
      "2             University of Science Ho Chi Minh City     2007.0  \n",
      "3  John von Neumann Institute - Vietnam National ...     2012.0  \n",
      "   cand_id     name           proficiency\n",
      "0      100  English  PROFESSIONAL_WORKING\n"
     ]
    }
   ],
   "source": [
    "import pandas as pd\n",
    "import CrawlingFunction\n",
    "linkedin_url = \"https://www.linkedin.com/in/leminhquoc/\"\n",
    "result = CrawlingFunction.get_user_information(100, linkedin_url)\n",
    "\n",
    "print(CrawlingFunction.cand_info_2DF(result))\n",
    "print(CrawlingFunction.company_list_2DF(result))\n",
    "print(CrawlingFunction.university_list_2DF(result))\n",
    "print(CrawlingFunction.language_list_2DF(result))"
   ]
  },
  {
   "cell_type": "code",
   "execution_count": 6,
   "metadata": {
    "collapsed": false
   },
   "outputs": [
    {
     "data": {
      "text/html": [
       "<div>\n",
       "<table border=\"1\" class=\"dataframe\">\n",
       "  <thead>\n",
       "    <tr style=\"text-align: right;\">\n",
       "      <th></th>\n",
       "      <th>0</th>\n",
       "    </tr>\n",
       "  </thead>\n",
       "  <tbody>\n",
       "    <tr>\n",
       "      <th>user_firstname</th>\n",
       "      <td>Quoc</td>\n",
       "    </tr>\n",
       "    <tr>\n",
       "      <th>language</th>\n",
       "      <td>[{u'proficiency': u'PROFESSIONAL_WORKING', u'n...</td>\n",
       "    </tr>\n",
       "    <tr>\n",
       "      <th>cand_id</th>\n",
       "      <td>100</td>\n",
       "    </tr>\n",
       "    <tr>\n",
       "      <th>university</th>\n",
       "      <td>[{u'country': u'FR', u'name': u'Telecom ParisT...</td>\n",
       "    </tr>\n",
       "    <tr>\n",
       "      <th>profile_pic_path</th>\n",
       "      <td>photo/profile_img_100.jpg</td>\n",
       "    </tr>\n",
       "    <tr>\n",
       "      <th>user_last</th>\n",
       "      <td>M.Le</td>\n",
       "    </tr>\n",
       "    <tr>\n",
       "      <th>company</th>\n",
       "      <td>[{u'locationName': u'Linh Trung, Ho Chi Minh C...</td>\n",
       "    </tr>\n",
       "  </tbody>\n",
       "</table>\n",
       "</div>"
      ],
      "text/plain": [
       "                                                                  0\n",
       "user_firstname                                                 Quoc\n",
       "language          [{u'proficiency': u'PROFESSIONAL_WORKING', u'n...\n",
       "cand_id                                                         100\n",
       "university        [{u'country': u'FR', u'name': u'Telecom ParisT...\n",
       "profile_pic_path                          photo/profile_img_100.jpg\n",
       "user_last                                                      M.Le\n",
       "company           [{u'locationName': u'Linh Trung, Ho Chi Minh C..."
      ]
     },
     "execution_count": 6,
     "metadata": {},
     "output_type": "execute_result"
    }
   ],
   "source": [
    "result_df = pd.DataFrame.from_dict(result,orient='index')\n",
    "result_df"
   ]
  },
  {
   "cell_type": "code",
   "execution_count": 13,
   "metadata": {
    "collapsed": false
   },
   "outputs": [
    {
     "name": "stdout",
     "output_type": "stream",
     "text": [
      "{'cand_id': 100,\n",
      " 'company': [{'locationName': 'Linh Trung, Ho Chi Minh City, Vietnam',\n",
      "              'name': 'John von Neumann Institute - Vietnam National University HCM',\n",
      "              'startMonth': 6,\n",
      "              'startYear': 2016},\n",
      "             {'locationName': 'Ho Chi Minh city',\n",
      "              'name': 'John von Neumann Institute - Vietnam National University HCM',\n",
      "              'startMonth': 8,\n",
      "              'startYear': 2016},\n",
      "             {'endMonth': 12,\n",
      "              'endYear': 2015,\n",
      "              'locationName': 'Sophia Antipolis',\n",
      "              'name': 'Amadeus IT Group',\n",
      "              'startMonth': 7,\n",
      "              'startYear': 2015},\n",
      "             {'locationName': '227 Nguyen Van Cu street, District 5, Ho Chi Minh city',\n",
      "              'name': 'VNUHCM - University of Science',\n",
      "              'startMonth': 12,\n",
      "              'startYear': 2011},\n",
      "             {'locationName': 'Ho Chi Minh City',\n",
      "              'name': 'John von Neumann Institute - Vietnam National University HCM',\n",
      "              'startMonth': 3,\n",
      "              'startYear': 2017},\n",
      "             {'name': 'WWF Vietnam'}],\n",
      " 'language': [{'name': 'English', 'proficiency': 'PROFESSIONAL_WORKING'}],\n",
      " 'profile_pic_path': 'photo/profile_img_100.jpg',\n",
      " 'university': [{'country': u'FR', 'name': 'Telecom ParisTech'},\n",
      "                {'country': u'FR',\n",
      "                 'endYear': 2016,\n",
      "                 'name': 'Telecom ParisTech',\n",
      "                 'startYear': 2013},\n",
      "                {'country': u'VN',\n",
      "                 'endYear': 2012,\n",
      "                 'name': 'University of Science Ho Chi Minh City',\n",
      "                 'startYear': 2007},\n",
      "                {'country': u'VN',\n",
      "                 'endYear': 2015,\n",
      "                 'name': 'John von Neumann Institute - Vietnam National University HCM',\n",
      "                 'startYear': 2012}],\n",
      " 'user_firstname': 'Quoc',\n",
      " 'user_last': 'M.Le'}\n"
     ]
    }
   ],
   "source": [
    "pprint.pprint(result)"
   ]
  },
  {
   "cell_type": "code",
   "execution_count": null,
   "metadata": {
    "collapsed": true
   },
   "outputs": [],
   "source": []
  },
  {
   "cell_type": "code",
   "execution_count": 8,
   "metadata": {
    "collapsed": false
   },
   "outputs": [
    {
     "name": "stdout",
     "output_type": "stream",
     "text": [
      "   cand_id firstname                   img_path lastname\n",
      "0      100      Quoc  photo/profile_img_100.jpg     M.Le\n"
     ]
    }
   ],
   "source": [
    "cand_dict = dict()\n",
    "cand_dict['cand_id'] = result['cand_id']\n",
    "cand_dict['firstname'] = result['user_firstname']\n",
    "cand_dict['lastname'] = result['user_last']\n",
    "cand_dict['img_path'] = result['profile_pic_path']\n",
    "cand_df = pd.DataFrame(cand_dict,index=[0])  \n",
    "print(cand_df)"
   ]
  },
  {
   "cell_type": "code",
   "execution_count": 2,
   "metadata": {
    "collapsed": false
   },
   "outputs": [
    {
     "name": "stdout",
     "output_type": "stream",
     "text": [
      "   cand_id endMonth  endYear  \\\n",
      "0      100  Present  Present   \n",
      "1      100  Present  Present   \n",
      "2      100       12     2015   \n",
      "3      100  Present  Present   \n",
      "4      100  Present  Present   \n",
      "5      100  Present  Present   \n",
      "\n",
      "                                        locationName  \\\n",
      "0              Linh Trung, Ho Chi Minh City, Vietnam   \n",
      "1                                   Ho Chi Minh city   \n",
      "2                                   Sophia Antipolis   \n",
      "3  227 Nguyen Van Cu street, District 5, Ho Chi M...   \n",
      "4                                   Ho Chi Minh City   \n",
      "5                                                NaN   \n",
      "\n",
      "                                                name  startMonth  startYear  \n",
      "0  John von Neumann Institute - Vietnam National ...         6.0     2016.0  \n",
      "1  John von Neumann Institute - Vietnam National ...         8.0     2016.0  \n",
      "2                                   Amadeus IT Group         7.0     2015.0  \n",
      "3                     VNUHCM - University of Science        12.0     2011.0  \n",
      "4  John von Neumann Institute - Vietnam National ...         3.0     2017.0  \n",
      "5                                        WWF Vietnam         NaN        NaN  \n"
     ]
    }
   ],
   "source": [
    "company_list =list()\n",
    "\n",
    "for company in result['company']:\n",
    "#     pprint.pprint(company)\n",
    "    company_dict =dict()\n",
    "    company_dict['cand_id'] = result['cand_id']\n",
    "    company_dict['name'] = company['name']\n",
    "    if 'startYear' in company:\n",
    "        company_dict['startYear'] = company['startYear']\n",
    "    if 'startMonth' in company:\n",
    "        company_dict['startMonth'] = company['startMonth']\n",
    "    if 'locationName' in company:\n",
    "        company_dict['locationName'] = company['locationName']\n",
    "    if 'endMonth' in company:\n",
    "        company_dict['endMonth'] = company['endMonth']\n",
    "    else:\n",
    "        company_dict['endMonth'] = 'Present'\n",
    "    if 'endYear' in company:\n",
    "        company_dict['endYear'] = company['endYear']\n",
    "    else:\n",
    "        company_dict['endYear'] = 'Present'\n",
    "        \n",
    "    company_list.append(company_dict)\n",
    "result_df = pd.DataFrame(company_list)  \n",
    "print(result_df)"
   ]
  },
  {
   "cell_type": "code",
   "execution_count": 6,
   "metadata": {
    "collapsed": false
   },
   "outputs": [
    {
     "name": "stdout",
     "output_type": "stream",
     "text": [
      "{'country': u'FR', 'name': 'Telecom ParisTech'}\n",
      "{'country': u'FR',\n",
      " 'endYear': 2016,\n",
      " 'name': 'Telecom ParisTech',\n",
      " 'startYear': 2013}\n",
      "{'country': u'VN',\n",
      " 'endYear': 2012,\n",
      " 'name': 'University of Science Ho Chi Minh City',\n",
      " 'startYear': 2007}\n",
      "{'country': u'VN',\n",
      " 'endYear': 2015,\n",
      " 'name': 'John von Neumann Institute - Vietnam National University HCM',\n",
      " 'startYear': 2012}\n",
      "   cand_id country endMonth  endYear  \\\n",
      "0      100      FR  Present  Present   \n",
      "1      100      FR  Present     2016   \n",
      "2      100      VN  Present     2012   \n",
      "3      100      VN  Present     2015   \n",
      "\n",
      "                                                name  startYear  \n",
      "0                                  Telecom ParisTech        NaN  \n",
      "1                                  Telecom ParisTech     2013.0  \n",
      "2             University of Science Ho Chi Minh City     2007.0  \n",
      "3  John von Neumann Institute - Vietnam National ...     2012.0  \n"
     ]
    }
   ],
   "source": [
    "university_list =list()\n",
    "\n",
    "for university in result['university']:\n",
    "    pprint.pprint(university)\n",
    "    university_dict =dict()\n",
    "    university_dict['cand_id'] = result['cand_id']\n",
    "    university_dict['name'] = university['name']\n",
    "    if 'startYear' in university:\n",
    "        university_dict['startYear'] = university['startYear']\n",
    "    if 'startMonth' in university:\n",
    "        university_dict['startMonth'] = university['startMonth']\n",
    "    if 'country' in university:\n",
    "        university_dict['country'] = university['country']\n",
    "    if 'endMonth' in university:\n",
    "        university_dict['endMonth'] = university['endMonth']\n",
    "    else:\n",
    "        university_dict['endMonth'] = 'Present'\n",
    "    if 'endYear' in university:\n",
    "        university_dict['endYear'] = university['endYear']\n",
    "    else:\n",
    "        university_dict['endYear'] = 'Present'\n",
    "        \n",
    "    university_list.append(university_dict)\n",
    "result_U_df = pd.DataFrame(university_list)  \n",
    "print(result_U_df)"
   ]
  },
  {
   "cell_type": "code",
   "execution_count": 13,
   "metadata": {
    "collapsed": false
   },
   "outputs": [
    {
     "name": "stdout",
     "output_type": "stream",
     "text": [
      "{'cand_id': 100,\n",
      " 'company': [{'locationName': 'Linh Trung, Ho Chi Minh City, Vietnam',\n",
      "              'name': 'John von Neumann Institute - Vietnam National University HCM',\n",
      "              'startMonth': 6,\n",
      "              'startYear': 2016},\n",
      "             {'locationName': 'Ho Chi Minh city',\n",
      "              'name': 'John von Neumann Institute - Vietnam National University HCM',\n",
      "              'startMonth': 8,\n",
      "              'startYear': 2016},\n",
      "             {'endMonth': 12,\n",
      "              'endYear': 2015,\n",
      "              'locationName': 'Sophia Antipolis',\n",
      "              'name': 'Amadeus IT Group',\n",
      "              'startMonth': 7,\n",
      "              'startYear': 2015},\n",
      "             {'locationName': '227 Nguyen Van Cu street, District 5, Ho Chi Minh city',\n",
      "              'name': 'VNUHCM - University of Science',\n",
      "              'startMonth': 12,\n",
      "              'startYear': 2011},\n",
      "             {'locationName': 'Ho Chi Minh City',\n",
      "              'name': 'John von Neumann Institute - Vietnam National University HCM',\n",
      "              'startMonth': 3,\n",
      "              'startYear': 2017},\n",
      "             {'name': 'WWF Vietnam'}],\n",
      " 'language': [{'name': 'English', 'proficiency': 'PROFESSIONAL_WORKING'}],\n",
      " 'profile_pic_path': 'photo/profile_img_100.jpg',\n",
      " 'university': [{'country': u'FR', 'name': 'Telecom ParisTech'},\n",
      "                {'country': u'FR',\n",
      "                 'endYear': 2016,\n",
      "                 'name': 'Telecom ParisTech',\n",
      "                 'startYear': 2013},\n",
      "                {'country': u'VN',\n",
      "                 'endYear': 2012,\n",
      "                 'name': 'University of Science Ho Chi Minh City',\n",
      "                 'startYear': 2007},\n",
      "                {'country': u'VN',\n",
      "                 'endYear': 2015,\n",
      "                 'name': 'John von Neumann Institute - Vietnam National University HCM',\n",
      "                 'startYear': 2012}],\n",
      " 'user_firstname': 'Quoc',\n",
      " 'user_last': 'M.Le'}\n"
     ]
    }
   ],
   "source": [
    "pprint.pprint(result)"
   ]
  },
  {
   "cell_type": "code",
   "execution_count": 14,
   "metadata": {
    "collapsed": false
   },
   "outputs": [
    {
     "name": "stdout",
     "output_type": "stream",
     "text": [
      "   cand_id     name           proficiency\n",
      "0      100  English  PROFESSIONAL_WORKING\n"
     ]
    }
   ],
   "source": [
    "language_list =list()\n",
    "\n",
    "for language in result['language']:\n",
    "#     pprint.pprint(university)\n",
    "    language_dict =dict()\n",
    "    language_dict['cand_id'] = result['cand_id']\n",
    "    language_dict['name'] = language['name']\n",
    "    if 'proficiency' in language:\n",
    "        language_dict['proficiency'] = language['proficiency']\n",
    "        \n",
    "    language_list.append(language_dict)\n",
    "result_Language_df = pd.DataFrame(language_list)  \n",
    "print(result_Language_df)"
   ]
  },
  {
   "cell_type": "code",
   "execution_count": 13,
   "metadata": {
    "collapsed": false
   },
   "outputs": [],
   "source": [
    "cand_info_df = pd.DataFrame(index=range(0,1000),columns=['cand_id','candidate_name','candidate_surname','profile_pic'])\n",
    "university_info_df = pd.DataFrame(index=range(0,1000),columns=['cand_id','University','university_country','university_start_month','university_start_year', 'univerisity_end_month','univerisity_end_year'])\n",
    "company_info_df = pd.DataFrame(index=range(0,1000),columns=['cand_id','Company', 'Company_country','Company_start_month','Company_start_year', 'Company_end_month','Company_end_year'])\n",
    "Language_info_df = pd.DataFrame(index=range(0,1000),columns=['cand_id','Language', 'proficiency'])"
   ]
  },
  {
   "cell_type": "code",
   "execution_count": null,
   "metadata": {
    "collapsed": true
   },
   "outputs": [],
   "source": [
    "cand_info_df = pd.DataFrame(index=range(0,1000),columns=['cand_id','candidate_name','candidate_surname',\n",
    "                                                      'University', 'university_country','university_start_month','university_start_year', 'univerisity_end_month','univerisity_end_year',\n",
    "                                                      'Company', 'university_country','university_start_month','university_start_year', 'univerisity_end_month','univerisity_end_year',])"
   ]
  }
 ],
 "metadata": {
  "anaconda-cloud": {},
  "kernelspec": {
   "display_name": "Python 2",
   "language": "python",
   "name": "python2"
  },
  "language_info": {
   "codemirror_mode": {
    "name": "ipython",
    "version": 2
   },
   "file_extension": ".py",
   "mimetype": "text/x-python",
   "name": "python",
   "nbconvert_exporter": "python",
   "pygments_lexer": "ipython2",
   "version": "2.7.13"
  }
 },
 "nbformat": 4,
 "nbformat_minor": 1
}
