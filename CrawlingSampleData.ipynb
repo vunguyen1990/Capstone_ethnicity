{
 "cells": [
  {
   "cell_type": "code",
   "execution_count": 1,
   "metadata": {
    "collapsed": false
   },
   "outputs": [],
   "source": [
    "import pandas as pd\n",
    "import pprint\n",
    "import CrawlingFunction"
   ]
  },
  {
   "cell_type": "code",
   "execution_count": 2,
   "metadata": {
    "collapsed": false
   },
   "outputs": [],
   "source": [
    "cand_df = pd.DataFrame({'cand_id': [], 'firstname': [], 'lastname': [], 'img_path': [],'url': []})\n",
    "com_df = pd.DataFrame({'cand_id': [], 'name': [], 'locationName': [],'country': [], 'startMonth': [],'startYear': [], 'endMonth': [], 'endYear': []})\n",
    "university_df = pd.DataFrame({'cand_id': [], 'name': [], 'country': [], 'startMonth': [],'startYear': [], 'endMonth': [], 'endYear': []})\n",
    "language_df = pd.DataFrame({'cand_id': [], 'name': [], 'proficiency': []})"
   ]
  },
  {
   "cell_type": "code",
   "execution_count": 3,
   "metadata": {
    "collapsed": false
   },
   "outputs": [],
   "source": [
    "sample_df = pd.read_csv(\"sample_data_1000_0.csv\")"
   ]
  },
  {
   "cell_type": "code",
   "execution_count": null,
   "metadata": {
    "collapsed": false
   },
   "outputs": [],
   "source": [
    "sample_series = sample_df.to_dict(orient = 'records')"
   ]
  },
  {
   "cell_type": "code",
   "execution_count": null,
   "metadata": {
    "collapsed": false
   },
   "outputs": [],
   "source": [
    "globallogfile = open('global_log.txt', 'w')\n",
    "for sample in sample_series:\n",
    "\n",
    "    print(cand_df)\n",
    "    pprint.pprint(\"%s - %s\"%(sample['url'],sample['ID']),globallogfile)\n",
    "    print(sample['url'],sample['ID'])\n",
    "    result = CrawlingFunction.get_user_information(sample['ID'], sample['url'])\n",
    "    cand_row = CrawlingFunction.cand_info_2DF(result)\n",
    "    com_rows = CrawlingFunction.company_list_2DF(result)\n",
    "    university_rows = CrawlingFunction.university_list_2DF(result)\n",
    "    language_rows = CrawlingFunction.language_list_2DF(result)\n",
    "    pprint.pprint(cand_row,globallogfile)\n",
    "    pprint.pprint(com_rows,globallogfile)\n",
    "    pprint.pprint(university_rows,globallogfile)\n",
    "    pprint.pprint(language_rows,globallogfile)\n",
    "    cand_df = pd.concat([cand_df,cand_row])\n",
    "    com_df = pd.concat([com_df,com_rows])\n",
    "    university_df = pd.concat([university_df,university_rows])\n",
    "    language_df = pd.concat([language_df,language_rows])\n",
    "    \n",
    "globallogfile.close()"
   ]
  },
  {
   "cell_type": "code",
   "execution_count": null,
   "metadata": {
    "collapsed": false
   },
   "outputs": [],
   "source": [
    "cand_df.to_csv(\"cand_df_%d.csv\"%len(cand_df))\n",
    "com_df.to_csv(\"com_df_%d.csv\"%len(com_df))\n",
    "university_df.to_csv(\"university_df_%d.csv\"%len(university_df))\n",
    "language_df.to_csv(\"language_df_%d.csv\"%len(language_df))"
   ]
  },
  {
   "cell_type": "code",
   "execution_count": null,
   "metadata": {
    "collapsed": false
   },
   "outputs": [],
   "source": [
    "globallogfile.close()\n"
   ]
  },
  {
   "cell_type": "code",
   "execution_count": null,
   "metadata": {
    "collapsed": false
   },
   "outputs": [],
   "source": [
    "cand_row = CrawlingFunction.cand_info_2DF(result)\n",
    "print(cand_row)\n",
    "cand_df = pd.concat([cand_df,cand_row])"
   ]
  }
 ],
 "metadata": {
  "anaconda-cloud": {},
  "kernelspec": {
   "display_name": "Python 2",
   "language": "python",
   "name": "python2"
  },
  "language_info": {
   "codemirror_mode": {
    "name": "ipython",
    "version": 2
   },
   "file_extension": ".py",
   "mimetype": "text/x-python",
   "name": "python",
   "nbconvert_exporter": "python",
   "pygments_lexer": "ipython2",
   "version": "2.7.13"
  }
 },
 "nbformat": 4,
 "nbformat_minor": 2
}
