{
 "cells": [
  {
   "cell_type": "code",
   "execution_count": 47,
   "metadata": {
    "collapsed": true
   },
   "outputs": [],
   "source": [
    "import pandas as pd"
   ]
  },
  {
   "cell_type": "code",
   "execution_count": 54,
   "metadata": {
    "collapsed": true
   },
   "outputs": [],
   "source": [
    "N=1000\n",
    "n=100"
   ]
  },
  {
   "cell_type": "code",
   "execution_count": 49,
   "metadata": {
    "collapsed": false
   },
   "outputs": [
    {
     "name": "stdout",
     "output_type": "stream",
     "text": [
      "('original length:', 200000)\n",
      "('dropped length:', 195868)\n",
      "('2nd dropped length:', 184364)\n"
     ]
    },
    {
     "name": "stderr",
     "output_type": "stream",
     "text": [
      "/Users/vunguyen/anaconda/envs/python2/lib/python2.7/site-packages/ipykernel/__main__.py:5: FutureWarning: the take_last=True keyword is deprecated, use keep='last' instead\n",
      "/Users/vunguyen/anaconda/envs/python2/lib/python2.7/site-packages/ipykernel/__main__.py:7: FutureWarning: the take_last=True keyword is deprecated, use keep='last' instead\n"
     ]
    }
   ],
   "source": [
    "cand_data_df = pd.read_csv(\"candidate_infor_data.csv\")\n",
    "cand_data_df['fullname'] = cand_data_df['candidate_name'] + cand_data_df['candidate_surname']\n",
    "print(\"original length:\",len(cand_data_df))\n",
    "\n",
    "cand_data_df_dropDup = cand_data_df.drop_duplicates('url', take_last=True)\n",
    "print(\"dropped length:\",len(cand_data_df_dropDup))\n",
    "cand_data_df_dropDup = cand_data_df_dropDup.drop_duplicates('fullname', take_last=True)\n",
    "print(\"2nd dropped length:\",len(cand_data_df_dropDup))\n",
    "sample_df = cand_data_df_dropDup.sample(N)"
   ]
  },
  {
   "cell_type": "code",
   "execution_count": 50,
   "metadata": {
    "collapsed": false
   },
   "outputs": [
    {
     "name": "stdout",
     "output_type": "stream",
     "text": [
      "1000\n"
     ]
    }
   ],
   "source": [
    "sample_df_index = sample_df.reset_index()\n",
    "sample_df_index['ID'] = sample_df_index.index\n",
    "# sample_df_index\n",
    "print(len(sample_df_index))"
   ]
  },
  {
   "cell_type": "code",
   "execution_count": 58,
   "metadata": {
    "collapsed": false
   },
   "outputs": [
    {
     "name": "stdout",
     "output_type": "stream",
     "text": [
      "1000\n",
      "100\n",
      "0\n"
     ]
    }
   ],
   "source": [
    "first_ten = pd.DataFrame()\n",
    "rest = sample_df_index\n",
    "print(len(rest))\n",
    "for i in range(0,10):\n",
    "#     if rest.shape[0] > n: # len(df) > 10 would also work\n",
    "    first_ten = rest[:n]\n",
    "    rest = rest[n:]\n",
    "    first_ten.to_csv(\"sample_data_%d_%d.csv\"%(N,i))\n",
    "print(len(first_ten))\n",
    "print(len(rest))"
   ]
  },
  {
   "cell_type": "code",
   "execution_count": 35,
   "metadata": {
    "collapsed": false
   },
   "outputs": [
    {
     "data": {
      "text/html": [
       "<div>\n",
       "<table border=\"1\" class=\"dataframe\">\n",
       "  <thead>\n",
       "    <tr style=\"text-align: right;\">\n",
       "      <th></th>\n",
       "      <th>index</th>\n",
       "      <th>Unnamed: 0</th>\n",
       "      <th>candidate_name</th>\n",
       "      <th>candidate_surname</th>\n",
       "      <th>candidate_country</th>\n",
       "      <th>candidate_gender</th>\n",
       "      <th>c_address_latitude</th>\n",
       "      <th>c_address_longitude</th>\n",
       "      <th>ethnicity</th>\n",
       "      <th>type</th>\n",
       "      <th>url</th>\n",
       "      <th>cand_id</th>\n",
       "      <th>ID</th>\n",
       "    </tr>\n",
       "  </thead>\n",
       "  <tbody>\n",
       "    <tr>\n",
       "      <th>0</th>\n",
       "      <td>57025</td>\n",
       "      <td>57025</td>\n",
       "      <td>John</td>\n",
       "      <td>Kristian</td>\n",
       "      <td>US</td>\n",
       "      <td>Male</td>\n",
       "      <td>37.774929</td>\n",
       "      <td>-122.419415</td>\n",
       "      <td>White/Caucasian</td>\n",
       "      <td>linkedin</td>\n",
       "      <td>http://www.linkedin.com/in/jmkristian</td>\n",
       "      <td>57025</td>\n",
       "      <td>0</td>\n",
       "    </tr>\n",
       "    <tr>\n",
       "      <th>1</th>\n",
       "      <td>43061</td>\n",
       "      <td>43061</td>\n",
       "      <td>Joey</td>\n",
       "      <td>Van Hoek</td>\n",
       "      <td>NL</td>\n",
       "      <td>Male</td>\n",
       "      <td>51.571915</td>\n",
       "      <td>4.768323</td>\n",
       "      <td>White/Caucasian</td>\n",
       "      <td>linkedin</td>\n",
       "      <td>https://nl.linkedin.com/in/joey-van-hoek-aa98481b</td>\n",
       "      <td>43061</td>\n",
       "      <td>1</td>\n",
       "    </tr>\n",
       "    <tr>\n",
       "      <th>2</th>\n",
       "      <td>174408</td>\n",
       "      <td>174408</td>\n",
       "      <td>Anne</td>\n",
       "      <td>Reb</td>\n",
       "      <td>US</td>\n",
       "      <td>Female</td>\n",
       "      <td>38.907192</td>\n",
       "      <td>-77.036871</td>\n",
       "      <td>White/Caucasian</td>\n",
       "      <td>linkedin</td>\n",
       "      <td>https://www.linkedin.com/in/anne-reb-067a7539</td>\n",
       "      <td>174408</td>\n",
       "      <td>2</td>\n",
       "    </tr>\n",
       "    <tr>\n",
       "      <th>3</th>\n",
       "      <td>30604</td>\n",
       "      <td>30604</td>\n",
       "      <td>Pandora</td>\n",
       "      <td>Levinge</td>\n",
       "      <td>GB</td>\n",
       "      <td>Female</td>\n",
       "      <td>51.507351</td>\n",
       "      <td>-0.127758</td>\n",
       "      <td>White/Caucasian</td>\n",
       "      <td>linkedin</td>\n",
       "      <td>https://www.linkedin.com/in/pandora-levinge-86...</td>\n",
       "      <td>30604</td>\n",
       "      <td>3</td>\n",
       "    </tr>\n",
       "    <tr>\n",
       "      <th>4</th>\n",
       "      <td>196672</td>\n",
       "      <td>196672</td>\n",
       "      <td>Siva</td>\n",
       "      <td>Gudavalli</td>\n",
       "      <td>US</td>\n",
       "      <td>Male</td>\n",
       "      <td>42.360082</td>\n",
       "      <td>-71.058880</td>\n",
       "      <td>Asian</td>\n",
       "      <td>linkedin</td>\n",
       "      <td>https://www.linkedin.com/in/siva-gudavalli-0a7...</td>\n",
       "      <td>196672</td>\n",
       "      <td>4</td>\n",
       "    </tr>\n",
       "    <tr>\n",
       "      <th>5</th>\n",
       "      <td>10016</td>\n",
       "      <td>10016</td>\n",
       "      <td>Victor</td>\n",
       "      <td>Qiu</td>\n",
       "      <td>CN</td>\n",
       "      <td>Male</td>\n",
       "      <td>23.129110</td>\n",
       "      <td>113.264385</td>\n",
       "      <td>Asian</td>\n",
       "      <td>linkedin</td>\n",
       "      <td>https://www.linkedin.com/in/advancedaily/</td>\n",
       "      <td>10016</td>\n",
       "      <td>5</td>\n",
       "    </tr>\n",
       "    <tr>\n",
       "      <th>6</th>\n",
       "      <td>49349</td>\n",
       "      <td>49349</td>\n",
       "      <td>Swati</td>\n",
       "      <td>Sapata</td>\n",
       "      <td>SG</td>\n",
       "      <td>Female</td>\n",
       "      <td>1.355379</td>\n",
       "      <td>103.867744</td>\n",
       "      <td>Asian</td>\n",
       "      <td>linkedin</td>\n",
       "      <td>https://www.linkedin.com/in/swati-sapata-2a235...</td>\n",
       "      <td>49349</td>\n",
       "      <td>6</td>\n",
       "    </tr>\n",
       "    <tr>\n",
       "      <th>7</th>\n",
       "      <td>106292</td>\n",
       "      <td>106292</td>\n",
       "      <td>Vishal</td>\n",
       "      <td>Mishra</td>\n",
       "      <td>US</td>\n",
       "      <td>Male</td>\n",
       "      <td>37.827178</td>\n",
       "      <td>-122.291308</td>\n",
       "      <td>Asian</td>\n",
       "      <td>linkedin</td>\n",
       "      <td>https://www.linkedin.com/in/mishravishal</td>\n",
       "      <td>106292</td>\n",
       "      <td>7</td>\n",
       "    </tr>\n",
       "    <tr>\n",
       "      <th>8</th>\n",
       "      <td>9422</td>\n",
       "      <td>9422</td>\n",
       "      <td>Rachel</td>\n",
       "      <td>(Lei) Chen</td>\n",
       "      <td>CN</td>\n",
       "      <td>Female</td>\n",
       "      <td>39.904211</td>\n",
       "      <td>116.407395</td>\n",
       "      <td>Asian</td>\n",
       "      <td>linkedin</td>\n",
       "      <td>https://www.linkedin.com/in/rachelchenlei</td>\n",
       "      <td>9422</td>\n",
       "      <td>8</td>\n",
       "    </tr>\n",
       "    <tr>\n",
       "      <th>9</th>\n",
       "      <td>166364</td>\n",
       "      <td>166364</td>\n",
       "      <td>Nazish</td>\n",
       "      <td>Huq</td>\n",
       "      <td>US</td>\n",
       "      <td>Female</td>\n",
       "      <td>40.574270</td>\n",
       "      <td>-74.609880</td>\n",
       "      <td>Asian</td>\n",
       "      <td>linkedin</td>\n",
       "      <td>https://www.linkedin.com/in/nazish-huq-8068a36</td>\n",
       "      <td>166364</td>\n",
       "      <td>9</td>\n",
       "    </tr>\n",
       "  </tbody>\n",
       "</table>\n",
       "</div>"
      ],
      "text/plain": [
       "    index  Unnamed: 0 candidate_name candidate_surname candidate_country  \\\n",
       "0   57025       57025           John          Kristian                US   \n",
       "1   43061       43061           Joey          Van Hoek                NL   \n",
       "2  174408      174408           Anne               Reb                US   \n",
       "3   30604       30604        Pandora           Levinge                GB   \n",
       "4  196672      196672           Siva         Gudavalli                US   \n",
       "5   10016       10016         Victor               Qiu                CN   \n",
       "6   49349       49349          Swati            Sapata                SG   \n",
       "7  106292      106292         Vishal            Mishra                US   \n",
       "8    9422        9422         Rachel        (Lei) Chen                CN   \n",
       "9  166364      166364         Nazish               Huq                US   \n",
       "\n",
       "  candidate_gender  c_address_latitude  c_address_longitude        ethnicity  \\\n",
       "0             Male           37.774929          -122.419415  White/Caucasian   \n",
       "1             Male           51.571915             4.768323  White/Caucasian   \n",
       "2           Female           38.907192           -77.036871  White/Caucasian   \n",
       "3           Female           51.507351            -0.127758  White/Caucasian   \n",
       "4             Male           42.360082           -71.058880            Asian   \n",
       "5             Male           23.129110           113.264385            Asian   \n",
       "6           Female            1.355379           103.867744            Asian   \n",
       "7             Male           37.827178          -122.291308            Asian   \n",
       "8           Female           39.904211           116.407395            Asian   \n",
       "9           Female           40.574270           -74.609880            Asian   \n",
       "\n",
       "       type                                                url  cand_id  ID  \n",
       "0  linkedin              http://www.linkedin.com/in/jmkristian    57025   0  \n",
       "1  linkedin  https://nl.linkedin.com/in/joey-van-hoek-aa98481b    43061   1  \n",
       "2  linkedin      https://www.linkedin.com/in/anne-reb-067a7539   174408   2  \n",
       "3  linkedin  https://www.linkedin.com/in/pandora-levinge-86...    30604   3  \n",
       "4  linkedin  https://www.linkedin.com/in/siva-gudavalli-0a7...   196672   4  \n",
       "5  linkedin          https://www.linkedin.com/in/advancedaily/    10016   5  \n",
       "6  linkedin  https://www.linkedin.com/in/swati-sapata-2a235...    49349   6  \n",
       "7  linkedin           https://www.linkedin.com/in/mishravishal   106292   7  \n",
       "8  linkedin          https://www.linkedin.com/in/rachelchenlei     9422   8  \n",
       "9  linkedin     https://www.linkedin.com/in/nazish-huq-8068a36   166364   9  "
      ]
     },
     "execution_count": 35,
     "metadata": {},
     "output_type": "execute_result"
    }
   ],
   "source": [
    "sample_df_index"
   ]
  },
  {
   "cell_type": "code",
   "execution_count": 36,
   "metadata": {
    "collapsed": false
   },
   "outputs": [],
   "source": [
    "\n",
    "del sample_df_index['type']\n",
    "del sample_df_index['candidate_gender']\n",
    "del sample_df_index['c_address_latitude']\n",
    "del sample_df_index['c_address_longitude']\n",
    "del sample_df_index['index']\n",
    "del sample_df_index['Unnamed: 0']"
   ]
  },
  {
   "cell_type": "code",
   "execution_count": 37,
   "metadata": {
    "collapsed": false
   },
   "outputs": [],
   "source": [
    "sample_df_index.to_csv('sample_df_%d.csv'%N)"
   ]
  },
  {
   "cell_type": "code",
   "execution_count": null,
   "metadata": {
    "collapsed": false
   },
   "outputs": [],
   "source": []
  },
  {
   "cell_type": "code",
   "execution_count": null,
   "metadata": {
    "collapsed": true
   },
   "outputs": [],
   "source": []
  }
 ],
 "metadata": {
  "kernelspec": {
   "display_name": "Python 2",
   "language": "python",
   "name": "python2"
  },
  "language_info": {
   "codemirror_mode": {
    "name": "ipython",
    "version": 2
   },
   "file_extension": ".py",
   "mimetype": "text/x-python",
   "name": "python",
   "nbconvert_exporter": "python",
   "pygments_lexer": "ipython2",
   "version": "2.7.13"
  }
 },
 "nbformat": 4,
 "nbformat_minor": 1
}
