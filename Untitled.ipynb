{
 "cells": [
  {
   "cell_type": "code",
   "execution_count": 1,
   "metadata": {
    "collapsed": true
   },
   "outputs": [],
   "source": [
    "import CrawlingFunction as cf"
   ]
  },
  {
   "cell_type": "code",
   "execution_count": 2,
   "metadata": {},
   "outputs": [
    {
     "name": "stderr",
     "output_type": "stream",
     "text": [
      "/usr/lib/python3/dist-packages/bs4/__init__.py:166: UserWarning: No parser was explicitly specified, so I'm using the best available HTML parser for this system (\"lxml\"). This usually isn't a problem, but if you run this code on another system, or in a different virtual environment, it may use a different parser and behave differently.\n",
      "\n",
      "To get rid of this warning, change this:\n",
      "\n",
      " BeautifulSoup([your markup])\n",
      "\n",
      "to this:\n",
      "\n",
      " BeautifulSoup([your markup], \"lxml\")\n",
      "\n",
      "  markup_type=markup_type))\n"
     ]
    },
    {
     "name": "stdout",
     "output_type": "stream",
     "text": [
      "Profile picture: /AAEAAQAAAAAAAAjoAAAAJGJjNGIyZTlhLWE1MWItNDkxOS1iNDVjLWFjZGVhMWI4MTU2Nw.jpg\n",
      "\n",
      "picture_link: https://media.licdn.com/mpr/mpr/shrinknp_400_400/AAEAAQAAAAAAAAjoAAAAJGJjNGIyZTlhLWE1MWItNDkxOS1iNDVjLWFjZGVhMWI4MTU2Nw.jpg\n",
      "All function time spending: 4.282333135604858\n"
     ]
    }
   ],
   "source": [
    "my_dict = cf.get_user_information(\"123\", \"https://www.linkedin.com/in/hoangnhuthinh/\")\n",
    "university = cf.university_list_2DF(my_dict)"
   ]
  },
  {
   "cell_type": "code",
   "execution_count": 5,
   "metadata": {},
   "outputs": [
    {
     "name": "stderr",
     "output_type": "stream",
     "text": [
      "/usr/lib/python3/dist-packages/bs4/__init__.py:166: UserWarning: No parser was explicitly specified, so I'm using the best available HTML parser for this system (\"lxml\"). This usually isn't a problem, but if you run this code on another system, or in a different virtual environment, it may use a different parser and behave differently.\n",
      "\n",
      "To get rid of this warning, change this:\n",
      "\n",
      " BeautifulSoup([your markup])\n",
      "\n",
      "to this:\n",
      "\n",
      " BeautifulSoup([your markup], \"lxml\")\n",
      "\n",
      "  markup_type=markup_type))\n"
     ]
    },
    {
     "name": "stdout",
     "output_type": "stream",
     "text": [
      "Profile picture: /AAEAAQAAAAAAAAi_AAAAJDc2NmVkN2JiLWNhZmItNDVmZC1hOGNkLTBmNWUyOWQxN2E3Nw.jpg\n",
      "\n",
      "picture_link: https://media.licdn.com/mpr/mpr/shrinknp_400_400/AAEAAQAAAAAAAAi_AAAAJDc2NmVkN2JiLWNhZmItNDVmZC1hOGNkLTBmNWUyOWQxN2E3Nw.jpg\n",
      "All function time spending: 5.188403367996216\n"
     ]
    },
    {
     "data": {
      "text/html": [
       "<div>\n",
       "<table border=\"1\" class=\"dataframe\">\n",
       "  <thead>\n",
       "    <tr style=\"text-align: right;\">\n",
       "      <th></th>\n",
       "      <th>cand_id</th>\n",
       "      <th>country</th>\n",
       "      <th>endMonth</th>\n",
       "      <th>endYear</th>\n",
       "      <th>name</th>\n",
       "      <th>startYear</th>\n",
       "    </tr>\n",
       "  </thead>\n",
       "  <tbody>\n",
       "    <tr>\n",
       "      <th>0</th>\n",
       "      <td>123</td>\n",
       "      <td>VN</td>\n",
       "      <td>Present</td>\n",
       "      <td>2009</td>\n",
       "      <td>b'Hai Ba Trung High School, Hue City'</td>\n",
       "      <td>2007.0</td>\n",
       "    </tr>\n",
       "    <tr>\n",
       "      <th>1</th>\n",
       "      <td>123</td>\n",
       "      <td>VN</td>\n",
       "      <td>Present</td>\n",
       "      <td>2013</td>\n",
       "      <td>b'University Of Economics HCM City'</td>\n",
       "      <td>2009.0</td>\n",
       "    </tr>\n",
       "    <tr>\n",
       "      <th>0</th>\n",
       "      <td>124</td>\n",
       "      <td>US</td>\n",
       "      <td>Present</td>\n",
       "      <td>Present</td>\n",
       "      <td>b'University of Southern California'</td>\n",
       "      <td>NaN</td>\n",
       "    </tr>\n",
       "    <tr>\n",
       "      <th>1</th>\n",
       "      <td>124</td>\n",
       "      <td>US</td>\n",
       "      <td>Present</td>\n",
       "      <td>2003</td>\n",
       "      <td>b'East Los Angeles College'</td>\n",
       "      <td>2002.0</td>\n",
       "    </tr>\n",
       "    <tr>\n",
       "      <th>2</th>\n",
       "      <td>124</td>\n",
       "      <td>US</td>\n",
       "      <td>Present</td>\n",
       "      <td>2005</td>\n",
       "      <td>b'University of Southern California'</td>\n",
       "      <td>2004.0</td>\n",
       "    </tr>\n",
       "  </tbody>\n",
       "</table>\n",
       "</div>"
      ],
      "text/plain": [
       "  cand_id country endMonth  endYear                                   name  \\\n",
       "0     123      VN  Present     2009  b'Hai Ba Trung High School, Hue City'   \n",
       "1     123      VN  Present     2013    b'University Of Economics HCM City'   \n",
       "0     124      US  Present  Present   b'University of Southern California'   \n",
       "1     124      US  Present     2003            b'East Los Angeles College'   \n",
       "2     124      US  Present     2005   b'University of Southern California'   \n",
       "\n",
       "   startYear  \n",
       "0     2007.0  \n",
       "1     2009.0  \n",
       "0        NaN  \n",
       "1     2002.0  \n",
       "2     2004.0  "
      ]
     },
     "execution_count": 5,
     "metadata": {},
     "output_type": "execute_result"
    }
   ],
   "source": [
    "my_dict2 = cf.get_user_information(\"124\", \"https://www.linkedin.com/in/linh-le-1a1a4ba/\")\n",
    "university2 = cf.university_list_2DF(my_dict2)\n",
    "university.append(university2)"
   ]
  },
  {
   "cell_type": "code",
   "execution_count": 9,
   "metadata": {},
   "outputs": [],
   "source": [
    "university = university.append(university2)"
   ]
  },
  {
   "cell_type": "code",
   "execution_count": 10,
   "metadata": {},
   "outputs": [
    {
     "data": {
      "text/html": [
       "<div>\n",
       "<table border=\"1\" class=\"dataframe\">\n",
       "  <thead>\n",
       "    <tr style=\"text-align: right;\">\n",
       "      <th></th>\n",
       "      <th>cand_id</th>\n",
       "      <th>country</th>\n",
       "      <th>endMonth</th>\n",
       "      <th>endYear</th>\n",
       "      <th>name</th>\n",
       "      <th>startYear</th>\n",
       "    </tr>\n",
       "  </thead>\n",
       "  <tbody>\n",
       "    <tr>\n",
       "      <th>0</th>\n",
       "      <td>123</td>\n",
       "      <td>VN</td>\n",
       "      <td>Present</td>\n",
       "      <td>2009</td>\n",
       "      <td>b'Hai Ba Trung High School, Hue City'</td>\n",
       "      <td>2007.0</td>\n",
       "    </tr>\n",
       "    <tr>\n",
       "      <th>1</th>\n",
       "      <td>123</td>\n",
       "      <td>VN</td>\n",
       "      <td>Present</td>\n",
       "      <td>2013</td>\n",
       "      <td>b'University Of Economics HCM City'</td>\n",
       "      <td>2009.0</td>\n",
       "    </tr>\n",
       "    <tr>\n",
       "      <th>0</th>\n",
       "      <td>124</td>\n",
       "      <td>US</td>\n",
       "      <td>Present</td>\n",
       "      <td>Present</td>\n",
       "      <td>b'University of Southern California'</td>\n",
       "      <td>NaN</td>\n",
       "    </tr>\n",
       "    <tr>\n",
       "      <th>1</th>\n",
       "      <td>124</td>\n",
       "      <td>US</td>\n",
       "      <td>Present</td>\n",
       "      <td>2003</td>\n",
       "      <td>b'East Los Angeles College'</td>\n",
       "      <td>2002.0</td>\n",
       "    </tr>\n",
       "    <tr>\n",
       "      <th>2</th>\n",
       "      <td>124</td>\n",
       "      <td>US</td>\n",
       "      <td>Present</td>\n",
       "      <td>2005</td>\n",
       "      <td>b'University of Southern California'</td>\n",
       "      <td>2004.0</td>\n",
       "    </tr>\n",
       "  </tbody>\n",
       "</table>\n",
       "</div>"
      ],
      "text/plain": [
       "  cand_id country endMonth  endYear                                   name  \\\n",
       "0     123      VN  Present     2009  b'Hai Ba Trung High School, Hue City'   \n",
       "1     123      VN  Present     2013    b'University Of Economics HCM City'   \n",
       "0     124      US  Present  Present   b'University of Southern California'   \n",
       "1     124      US  Present     2003            b'East Los Angeles College'   \n",
       "2     124      US  Present     2005   b'University of Southern California'   \n",
       "\n",
       "   startYear  \n",
       "0     2007.0  \n",
       "1     2009.0  \n",
       "0        NaN  \n",
       "1     2002.0  \n",
       "2     2004.0  "
      ]
     },
     "execution_count": 10,
     "metadata": {},
     "output_type": "execute_result"
    }
   ],
   "source": [
    "university"
   ]
  }
 ],
 "metadata": {
  "kernelspec": {
   "display_name": "Python 3",
   "language": "python",
   "name": "python3"
  },
  "language_info": {
   "codemirror_mode": {
    "name": "ipython",
    "version": 3
   },
   "file_extension": ".py",
   "mimetype": "text/x-python",
   "name": "python",
   "nbconvert_exporter": "python",
   "pygments_lexer": "ipython3",
   "version": "3.5.2"
  }
 },
 "nbformat": 4,
 "nbformat_minor": 2
}
