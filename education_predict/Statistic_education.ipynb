{
 "cells": [
  {
   "cell_type": "code",
   "execution_count": 92,
   "metadata": {
    "collapsed": true,
    "deletable": true,
    "editable": true
   },
   "outputs": [],
   "source": [
    "import pandas as pd\n",
    "import geocoder\n",
    "import numpy as np"
   ]
  },
  {
   "cell_type": "code",
   "execution_count": 93,
   "metadata": {
    "collapsed": true,
    "deletable": true,
    "editable": true
   },
   "outputs": [],
   "source": [
    "education_df = pd.read_csv(\"university_df.csv\")\n",
    "education_df = education_df.drop(\"endYear\", 1)\n",
    "education_df[['startYear']] = education_df[['startYear']].fillna(value = 2017)"
   ]
  },
  {
   "cell_type": "code",
   "execution_count": 94,
   "metadata": {
    "collapsed": true,
    "deletable": true,
    "editable": true
   },
   "outputs": [],
   "source": [
    "education_df = education_df[education_df.country.notnull()]"
   ]
  },
  {
   "cell_type": "code",
   "execution_count": 95,
   "metadata": {
    "collapsed": true,
    "deletable": true,
    "editable": true
   },
   "outputs": [],
   "source": [
    "# education_df_empty_country = education_df[pd.isnull(education_df).any(axis=1)]"
   ]
  },
  {
   "cell_type": "code",
   "execution_count": 96,
   "metadata": {
    "collapsed": true,
    "deletable": true,
    "editable": true
   },
   "outputs": [],
   "source": [
    "# school_country_dict = dict()\n",
    "# names = education_df_empty_country['name'].unique()\n",
    "# for name in names:\n",
    "#     g = geocoder.google(name)\n",
    "#     school_country_dict.update({name: g.country})"
   ]
  },
  {
   "cell_type": "code",
   "execution_count": 97,
   "metadata": {
    "collapsed": true,
    "deletable": true,
    "editable": true
   },
   "outputs": [],
   "source": [
    "# for index, row in education_df_empty_country.iterrows():\n",
    "#     country = school_country_dict.get(row['name'])\n",
    "#     education_df.set_value(index, 'country', country)"
   ]
  },
  {
   "cell_type": "markdown",
   "metadata": {
    "deletable": true,
    "editable": true
   },
   "source": [
    "# Insert actual ethnicity\n",
    "# Insert type of the start year\n",
    "### Type 1 > type 2 > type 3 ...\n",
    "### Type 1 is farthest from now"
   ]
  },
  {
   "cell_type": "code",
   "execution_count": 98,
   "metadata": {
    "collapsed": true,
    "deletable": true,
    "editable": true
   },
   "outputs": [],
   "source": [
    "def convert_actual_ethnicity(ethnicity):\n",
    "    if ethnicity == 'White/Caucasian':\n",
    "        return 'White'\n",
    "    elif ethnicity == 'Hispanic/Latino':\n",
    "        return 'Hispanic'\n",
    "    elif ethnicity == 'Other/Multiracial':\n",
    "        return 'Other'\n",
    "    elif ethnicity == 'Black/African American':\n",
    "        return 'Black'\n",
    "    return ethnicity"
   ]
  },
  {
   "cell_type": "code",
   "execution_count": 99,
   "metadata": {
    "collapsed": true,
    "deletable": true,
    "editable": true
   },
   "outputs": [],
   "source": [
    "education_df['actual_ethnicity'] = ''\n",
    "education_df['type_year'] = ''\n",
    "cand_infor_df = pd.read_csv(\"candilate_infor_crawed.csv\")\n",
    "for index, row in cand_infor_df.iterrows():\n",
    "    cand_id = row['cand_id']\n",
    "    actual_ethnicity = row['ethnicity']\n",
    "    \n",
    "    search_result = education_df[education_df.cand_id == cand_id]\n",
    "    search_result = search_result.sort_values(['startYear'], ascending=True)\n",
    "    \n",
    "    i = 1\n",
    "    for index_2, row_2 in search_result.iterrows():\n",
    "        education_df.set_value(index_2, 'actual_ethnicity', convert_actual_ethnicity(actual_ethnicity))\n",
    "        education_df.set_value(index_2, 'type_year', \"type_\"+str(i))\n",
    "        i = i + 1"
   ]
  },
  {
   "cell_type": "code",
   "execution_count": 100,
   "metadata": {
    "collapsed": true,
    "deletable": true,
    "editable": true
   },
   "outputs": [],
   "source": [
    "education_df = education_df[(education_df.type_year == 'type_1') \\\n",
    "                        | (education_df.type_year == 'type_2')\\\n",
    "                        | (education_df.type_year == 'type_3')]"
   ]
  },
  {
   "cell_type": "code",
   "execution_count": 101,
   "metadata": {
    "collapsed": true,
    "deletable": true,
    "editable": true
   },
   "outputs": [],
   "source": [
    "# education_statistic = education_df[['type_year', 'country', 'actual_ethnicity', 'cand_id']].groupby(['type_year', 'country', 'actual_ethnicity']).agg(['count'])"
   ]
  },
  {
   "cell_type": "code",
   "execution_count": 102,
   "metadata": {
    "collapsed": true,
    "deletable": true,
    "editable": true
   },
   "outputs": [],
   "source": [
    "# education_statistic.to_csv(\"education_statistic.csv\")"
   ]
  },
  {
   "cell_type": "markdown",
   "metadata": {
    "deletable": true,
    "editable": true
   },
   "source": [
    "# Statistic education"
   ]
  },
  {
   "cell_type": "code",
   "execution_count": 103,
   "metadata": {
    "collapsed": false,
    "deletable": true,
    "editable": true
   },
   "outputs": [],
   "source": [
    "country_eth = pd.read_csv(\"country_ethnicity.csv\", na_values=['', 'NaN'], keep_default_na = False)\n",
    "country_eth.fillna(0, inplace=True)"
   ]
  },
  {
   "cell_type": "code",
   "execution_count": 104,
   "metadata": {
    "collapsed": false,
    "deletable": true,
    "editable": true
   },
   "outputs": [],
   "source": [
    "education_df['predict_score'] = 0.0"
   ]
  },
  {
   "cell_type": "code",
   "execution_count": 105,
   "metadata": {
    "collapsed": true,
    "deletable": true,
    "editable": true
   },
   "outputs": [],
   "source": [
    "# for index, row in education_df.iterrows():\n",
    "#     country_ethinicity = \\\n",
    "#         country_eth[country_eth.country_code == row['country']].iloc[0]\n",
    "#     education_df.set_value(index, 'predict_score', \\\n",
    "#                            country_ethinicity[row['actual_ethnicity']])"
   ]
  },
  {
   "cell_type": "code",
   "execution_count": 106,
   "metadata": {
    "collapsed": true,
    "deletable": true,
    "editable": true
   },
   "outputs": [],
   "source": [
    "# education_df[['predict_score']] = education_df[['predict_score']].fillna(value = 0)"
   ]
  },
  {
   "cell_type": "code",
   "execution_count": 107,
   "metadata": {
    "collapsed": false,
    "deletable": true,
    "editable": true
   },
   "outputs": [],
   "source": [
    "# len(education_df['cand_id'].value_counts())"
   ]
  },
  {
   "cell_type": "code",
   "execution_count": 108,
   "metadata": {
    "collapsed": false,
    "deletable": true,
    "editable": true
   },
   "outputs": [],
   "source": [
    "\n",
    "# education_df[(education_df.type_year == 'type_2') & (education_df.predict_score > 0)].mean()"
   ]
  },
  {
   "cell_type": "code",
   "execution_count": 109,
   "metadata": {
    "collapsed": false,
    "deletable": true,
    "editable": true
   },
   "outputs": [],
   "source": [
    "# education_df[(education_df.type_year == 'type_2') & (education_df.predict_score > 0)].mean()"
   ]
  },
  {
   "cell_type": "code",
   "execution_count": 110,
   "metadata": {
    "collapsed": false,
    "deletable": true,
    "editable": true
   },
   "outputs": [],
   "source": [
    "# education_df[(education_df.type_year == 'type_3') & (education_df.predict_score > 0)]"
   ]
  },
  {
   "cell_type": "code",
   "execution_count": 111,
   "metadata": {
    "collapsed": false
   },
   "outputs": [],
   "source": [
    "w = [0.65, 0.2, 0.15]\n",
    "education_df['predict_ethnicity'] = ''"
   ]
  },
  {
   "cell_type": "code",
   "execution_count": 112,
   "metadata": {
    "collapsed": false
   },
   "outputs": [],
   "source": [
    "names = ['White','Black','Asian','Hispanic','Other']\n",
    "for cand_id in education_df.cand_id.unique():\n",
    "    edu_his = education_df[education_df.cand_id == cand_id].sort_values(by=\"type_year\")\n",
    "    ethnicity_probabiblies = [0.0] * 5 # probability of each ethnicity\n",
    "    i = 0\n",
    "    for index, row in edu_his.iterrows():\n",
    "        eth_distriubtion = country_eth[country_eth.country_code == \\\n",
    "                                       row['country']].iloc[0][['White','Black','Asian','Hispanic','Other']]\n",
    "        for j in range(0,5):\n",
    "            ethnicity_probabiblies[j] = ethnicity_probabiblies[j] + eth_distriubtion[j]\n",
    "        education_df.set_value(index, 'predict_ethnicity', names[np.argmax(ethnicity_probabiblies)])\n",
    "        \n",
    "        \n",
    "        i = i + 1\n",
    "        \n",
    "  "
   ]
  },
  {
   "cell_type": "code",
   "execution_count": 113,
   "metadata": {
    "collapsed": false
   },
   "outputs": [],
   "source": [
    "def change_name(ethnicity):\n",
    "    if ethnicity == \"Asian\":\n",
    "        return \"Asian\"\n",
    "    if ethnicity == 'White':\n",
    "        return \"White\"\n",
    "    return \"Other\"\n",
    "\n",
    "education_df['actual_ethnicity_2'] = education_df.apply(lambda x: change_name(x['actual_ethnicity']), axis = 1)\n",
    "education_df['predict_ethnicity_2'] = education_df.apply(lambda x: change_name(x['predict_ethnicity']), axis = 1)"
   ]
  },
  {
   "cell_type": "code",
   "execution_count": 120,
   "metadata": {
    "collapsed": false
   },
   "outputs": [
    {
     "data": {
      "text/html": [
       "<div>\n",
       "<table border=\"1\" class=\"dataframe\">\n",
       "  <thead>\n",
       "    <tr style=\"text-align: right;\">\n",
       "      <th>actual_ethnicity_2</th>\n",
       "      <th>Asian</th>\n",
       "      <th>Other</th>\n",
       "      <th>White</th>\n",
       "      <th>All</th>\n",
       "    </tr>\n",
       "    <tr>\n",
       "      <th>predict_ethnicity_2</th>\n",
       "      <th></th>\n",
       "      <th></th>\n",
       "      <th></th>\n",
       "      <th></th>\n",
       "    </tr>\n",
       "  </thead>\n",
       "  <tbody>\n",
       "    <tr>\n",
       "      <th>Asian</th>\n",
       "      <td>178</td>\n",
       "      <td>22</td>\n",
       "      <td>77</td>\n",
       "      <td>277</td>\n",
       "    </tr>\n",
       "    <tr>\n",
       "      <th>Other</th>\n",
       "      <td>0</td>\n",
       "      <td>4</td>\n",
       "      <td>11</td>\n",
       "      <td>15</td>\n",
       "    </tr>\n",
       "    <tr>\n",
       "      <th>White</th>\n",
       "      <td>223</td>\n",
       "      <td>118</td>\n",
       "      <td>1757</td>\n",
       "      <td>2098</td>\n",
       "    </tr>\n",
       "    <tr>\n",
       "      <th>All</th>\n",
       "      <td>401</td>\n",
       "      <td>144</td>\n",
       "      <td>1845</td>\n",
       "      <td>2390</td>\n",
       "    </tr>\n",
       "  </tbody>\n",
       "</table>\n",
       "</div>"
      ],
      "text/plain": [
       "actual_ethnicity_2   Asian  Other  White   All\n",
       "predict_ethnicity_2                           \n",
       "Asian                  178     22     77   277\n",
       "Other                    0      4     11    15\n",
       "White                  223    118   1757  2098\n",
       "All                    401    144   1845  2390"
      ]
     },
     "execution_count": 120,
     "metadata": {},
     "output_type": "execute_result"
    }
   ],
   "source": [
    "pd.crosstab(education_df.predict_ethnicity_2, education_df.actual_ethnicity_2, margins=True)"
   ]
  },
  {
   "cell_type": "code",
   "execution_count": 123,
   "metadata": {
    "collapsed": false
   },
   "outputs": [
    {
     "data": {
      "text/plain": [
       "(0.58224339877108722, 0.47465719170907422, 0.48886260197969672, None)"
      ]
     },
     "execution_count": 123,
     "metadata": {},
     "output_type": "execute_result"
    }
   ],
   "source": [
    "from sklearn.metrics import precision_recall_fscore_support\n",
    "precision_recall_fscore_support(education_df.actual_ethnicity_2, education_df.predict_ethnicity_2, average='macro')"
   ]
  },
  {
   "cell_type": "code",
   "execution_count": 115,
   "metadata": {
    "collapsed": false
   },
   "outputs": [
    {
     "data": {
      "text/html": [
       "<div>\n",
       "<table border=\"1\" class=\"dataframe\">\n",
       "  <thead>\n",
       "    <tr style=\"text-align: right;\">\n",
       "      <th></th>\n",
       "      <th>cand_id</th>\n",
       "      <th>country</th>\n",
       "      <th>name</th>\n",
       "      <th>startYear</th>\n",
       "      <th>actual_ethnicity</th>\n",
       "      <th>type_year</th>\n",
       "      <th>predict_score</th>\n",
       "      <th>predict_ethnicity</th>\n",
       "      <th>actual_ethnicity_2</th>\n",
       "      <th>predict_ethnicity_2</th>\n",
       "    </tr>\n",
       "  </thead>\n",
       "  <tbody>\n",
       "    <tr>\n",
       "      <th>2</th>\n",
       "      <td>0</td>\n",
       "      <td>US</td>\n",
       "      <td>b'MSU'</td>\n",
       "      <td>2001</td>\n",
       "      <td>White</td>\n",
       "      <td>type_1</td>\n",
       "      <td>0</td>\n",
       "      <td>White</td>\n",
       "      <td>White</td>\n",
       "      <td>White</td>\n",
       "    </tr>\n",
       "    <tr>\n",
       "      <th>1</th>\n",
       "      <td>0</td>\n",
       "      <td>CZ</td>\n",
       "      <td>b'ASEM'</td>\n",
       "      <td>2002</td>\n",
       "      <td>White</td>\n",
       "      <td>type_2</td>\n",
       "      <td>0</td>\n",
       "      <td>White</td>\n",
       "      <td>White</td>\n",
       "      <td>White</td>\n",
       "    </tr>\n",
       "    <tr>\n",
       "      <th>0</th>\n",
       "      <td>0</td>\n",
       "      <td>US</td>\n",
       "      <td>b'Foothill College'</td>\n",
       "      <td>2017</td>\n",
       "      <td>White</td>\n",
       "      <td>type_3</td>\n",
       "      <td>0</td>\n",
       "      <td>White</td>\n",
       "      <td>White</td>\n",
       "      <td>White</td>\n",
       "    </tr>\n",
       "  </tbody>\n",
       "</table>\n",
       "</div>"
      ],
      "text/plain": [
       "   cand_id country                 name  startYear actual_ethnicity type_year  \\\n",
       "2        0      US               b'MSU'       2001            White    type_1   \n",
       "1        0      CZ              b'ASEM'       2002            White    type_2   \n",
       "0        0      US  b'Foothill College'       2017            White    type_3   \n",
       "\n",
       "   predict_score predict_ethnicity actual_ethnicity_2 predict_ethnicity_2  \n",
       "2              0             White              White               White  \n",
       "1              0             White              White               White  \n",
       "0              0             White              White               White  "
      ]
     },
     "execution_count": 115,
     "metadata": {},
     "output_type": "execute_result"
    }
   ],
   "source": [
    "education_df[education_df.cand_id == 0].sort_values(by=\"type_year\")"
   ]
  },
  {
   "cell_type": "code",
   "execution_count": 116,
   "metadata": {
    "collapsed": false
   },
   "outputs": [
    {
     "data": {
      "text/html": [
       "<div>\n",
       "<table border=\"1\" class=\"dataframe\">\n",
       "  <thead>\n",
       "    <tr style=\"text-align: right;\">\n",
       "      <th></th>\n",
       "      <th>Unnamed: 0</th>\n",
       "      <th>country</th>\n",
       "      <th>White</th>\n",
       "      <th>Black</th>\n",
       "      <th>Asian</th>\n",
       "      <th>Hispanic</th>\n",
       "      <th>Other</th>\n",
       "      <th>country_code</th>\n",
       "    </tr>\n",
       "  </thead>\n",
       "  <tbody>\n",
       "    <tr>\n",
       "      <th>183</th>\n",
       "      <td>185</td>\n",
       "      <td>United States</td>\n",
       "      <td>0.75</td>\n",
       "      <td>0.12</td>\n",
       "      <td>0.03</td>\n",
       "      <td>0.05</td>\n",
       "      <td>0.05</td>\n",
       "      <td>US</td>\n",
       "    </tr>\n",
       "  </tbody>\n",
       "</table>\n",
       "</div>"
      ],
      "text/plain": [
       "     Unnamed: 0        country  White  Black  Asian  Hispanic  Other  \\\n",
       "183         185  United States   0.75   0.12   0.03      0.05   0.05   \n",
       "\n",
       "    country_code  \n",
       "183           US  "
      ]
     },
     "execution_count": 116,
     "metadata": {},
     "output_type": "execute_result"
    }
   ],
   "source": [
    "country_eth[country_eth.country_code == 'US']"
   ]
  },
  {
   "cell_type": "code",
   "execution_count": 117,
   "metadata": {
    "collapsed": false
   },
   "outputs": [
    {
     "data": {
      "text/html": [
       "<div>\n",
       "<table border=\"1\" class=\"dataframe\">\n",
       "  <thead>\n",
       "    <tr style=\"text-align: right;\">\n",
       "      <th></th>\n",
       "      <th>Unnamed: 0</th>\n",
       "      <th>country</th>\n",
       "      <th>White</th>\n",
       "      <th>Black</th>\n",
       "      <th>Asian</th>\n",
       "      <th>Hispanic</th>\n",
       "      <th>Other</th>\n",
       "      <th>country_code</th>\n",
       "    </tr>\n",
       "  </thead>\n",
       "  <tbody>\n",
       "    <tr>\n",
       "      <th>45</th>\n",
       "      <td>45</td>\n",
       "      <td>Czech Republic</td>\n",
       "      <td>1</td>\n",
       "      <td>0</td>\n",
       "      <td>0</td>\n",
       "      <td>0</td>\n",
       "      <td>0</td>\n",
       "      <td>CZ</td>\n",
       "    </tr>\n",
       "  </tbody>\n",
       "</table>\n",
       "</div>"
      ],
      "text/plain": [
       "    Unnamed: 0         country  White  Black  Asian  Hispanic  Other  \\\n",
       "45          45  Czech Republic      1      0      0         0      0   \n",
       "\n",
       "   country_code  \n",
       "45           CZ  "
      ]
     },
     "execution_count": 117,
     "metadata": {},
     "output_type": "execute_result"
    }
   ],
   "source": [
    "country_eth[country_eth.country_code == 'CZ']"
   ]
  }
 ],
 "metadata": {
  "kernelspec": {
   "display_name": "Python 3",
   "language": "python",
   "name": "python3"
  },
  "language_info": {
   "codemirror_mode": {
    "name": "ipython",
    "version": 3
   },
   "file_extension": ".py",
   "mimetype": "text/x-python",
   "name": "python",
   "nbconvert_exporter": "python",
   "pygments_lexer": "ipython3",
   "version": "3.5.2"
  }
 },
 "nbformat": 4,
 "nbformat_minor": 2
}
