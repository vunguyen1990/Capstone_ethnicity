{
 "cells": [
  {
   "cell_type": "code",
   "execution_count": 2,
   "metadata": {
    "collapsed": true
   },
   "outputs": [],
   "source": [
    "import os\n",
    "import pandas as pd\n",
    "import numpy as np\n",
    "import pprint\n",
    "from sklearn.metrics import confusion_matrix\n",
    "from sklearn import metrics\n"
   ]
  },
  {
   "cell_type": "markdown",
   "metadata": {},
   "source": [
    "# Read original data"
   ]
  },
  {
   "cell_type": "code",
   "execution_count": 14,
   "metadata": {
    "collapsed": false
   },
   "outputs": [
    {
     "name": "stdout",
     "output_type": "stream",
     "text": [
      "/Users/vunguyen/Capstone_ethnicity/Result/original_data/1\n",
      "/Users/vunguyen/Capstone_ethnicity/Result/original_data/2\n"
     ]
    },
    {
     "data": {
      "text/plain": [
       "2000"
      ]
     },
     "execution_count": 14,
     "metadata": {},
     "output_type": "execute_result"
    }
   ],
   "source": [
    "candidate_data_list = list()\n",
    "working_dir = 'Result/original_data'\n",
    "working_path = os.path.join(os.getcwd(),working_dir)\n",
    "for root, dirs, files in os.walk(working_path, topdown=False):\n",
    "    for name in dirs:\n",
    "        folder_path = os.path.join(root,name)\n",
    "        for i in range(0,10):\n",
    "            filename = 'sample_data_1000_' + str(i)\n",
    "            candidate_file = filename + '.csv'\n",
    "            candidate_file_path = os.path.join(folder_path,candidate_file)\n",
    "            candidate_df = pd.read_csv(candidate_file_path)\n",
    "            candidate_data_list.append(candidate_df)\n",
    "candidate_data_df =  pd.concat(candidate_data_list)\n",
    "len(candidate_data_df)"
   ]
  },
  {
   "cell_type": "code",
   "execution_count": null,
   "metadata": {
    "collapsed": true
   },
   "outputs": [],
   "source": [
    "len()"
   ]
  },
  {
   "cell_type": "code",
   "execution_count": null,
   "metadata": {
    "collapsed": true
   },
   "outputs": [],
   "source": [
    "candidate_data_list = list()\n",
    "working_dir = '1000sample/balancelanguage'\n",
    "working_path = os.path.join(os.getcwd(),working_dir)\n",
    "\n",
    "for i in range(0,10):\n",
    "    filename = 'sample_data_1000_' + str(i)\n",
    "    candidate_file = filename + '.csv'\n",
    "    candidate_file_path = os.path.join(working_path,candidate_file)\n",
    "#     candidate_file_path = os.path.join(os.getcwd(),candidate_file)\n",
    "    candidate_df = pd.read_csv(candidate_file_path)\n",
    "    candidate_data_list.append(candidate_df)"
   ]
  },
  {
   "cell_type": "code",
   "execution_count": null,
   "metadata": {
    "collapsed": true
   },
   "outputs": [],
   "source": [
    "candidate_data_df = pd.concat(candidate_data_list)\n",
    "# candidate_data_df.head()\n",
    "len(candidate_data_df)"
   ]
  },
  {
   "cell_type": "code",
   "execution_count": null,
   "metadata": {
    "collapsed": true
   },
   "outputs": [],
   "source": [
    "candidate_data = candidate_data_df[['candidate_name','candidate_surname','candidate_country','ethnicity','ID','url']]\n",
    "candidate_data = candidate_data.rename(columns={\"ID\": \"cand_id\"})"
   ]
  },
  {
   "cell_type": "markdown",
   "metadata": {},
   "source": [
    "Read language result"
   ]
  },
  {
   "cell_type": "code",
   "execution_count": null,
   "metadata": {
    "collapsed": true
   },
   "outputs": [],
   "source": [
    "lang_data_list = list()\n",
    "working_dir = '1000sample/balancelanguage'\n",
    "working_path = os.path.join(os.getcwd(),working_dir)\n",
    "for i in range(0,10):\n",
    "    filename = 'sample_data_1000_%s_language'% str(i)\n",
    "    lang_file = filename + '.csv'\n",
    "    lang_file_path = os.path.join(working_path,lang_file)\n",
    "    lang_df = pd.read_csv(lang_file_path)\n",
    "    print(lang_df)\n",
    "    lang_data_list.append(lang_df)\n",
    "lang_df = pd.concat(lang_data_list)"
   ]
  },
  {
   "cell_type": "code",
   "execution_count": null,
   "metadata": {
    "collapsed": true
   },
   "outputs": [],
   "source": [
    "lang_df['language_code'] = lang_df.name.apply(lambda row:nativeLang2LangCode(row))\n",
    "lang_df.head()"
   ]
  },
  {
   "cell_type": "code",
   "execution_count": null,
   "metadata": {
    "collapsed": true
   },
   "outputs": [],
   "source": [
    "lang_df['Predict_eth'] = lang_df.language_code.apply(lambda row:languageCode2ethnicity(row))"
   ]
  },
  {
   "cell_type": "markdown",
   "metadata": {},
   "source": [
    "# Analyzing result"
   ]
  },
  {
   "cell_type": "code",
   "execution_count": null,
   "metadata": {
    "collapsed": true
   },
   "outputs": [],
   "source": [
    "precision = np.mean(metrics.precision_recall_fscore_support(join_df['ethnicity'], join_df['Predict_eth'])[0])\n",
    "recall = np.mean(metrics.precision_recall_fscore_support(join_df['ethnicity'], join_df['Predict_eth'])[1])\n",
    "fscore = np.mean(metrics.precision_recall_fscore_support(join_df['ethnicity'], join_df['Predict_eth'])[2])\n",
    "print(precision,recall,fscore)\n",
    "metrics.classification_report"
   ]
  },
  {
   "cell_type": "code",
   "execution_count": null,
   "metadata": {
    "collapsed": true
   },
   "outputs": [],
   "source": [
    "df_confusion = pd.crosstab(join_df['ethnicity'], join_df['Predict_eth'], rownames=['Actual'], colnames=['Predicted'], margins=True)\n",
    "\n",
    "df_confusion"
   ]
  }
 ],
 "metadata": {
  "anaconda-cloud": {},
  "kernelspec": {
   "display_name": "Python [default]",
   "language": "python",
   "name": "python3"
  },
  "language_info": {
   "codemirror_mode": {
    "name": "ipython",
    "version": 3
   },
   "file_extension": ".py",
   "mimetype": "text/x-python",
   "name": "python",
   "nbconvert_exporter": "python",
   "pygments_lexer": "ipython3",
   "version": "3.5.2"
  }
 },
 "nbformat": 4,
 "nbformat_minor": 1
}
